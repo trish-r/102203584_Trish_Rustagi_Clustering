{
  "nbformat": 4,
  "nbformat_minor": 0,
  "metadata": {
    "colab": {
      "provenance": [],
      "authorship_tag": "ABX9TyMmTrAbn5yXhviMmKWOBL3W",
      "include_colab_link": true
    },
    "kernelspec": {
      "name": "python3",
      "display_name": "Python 3"
    },
    "language_info": {
      "name": "python"
    }
  },
  "cells": [
    {
      "cell_type": "markdown",
      "metadata": {
        "id": "view-in-github",
        "colab_type": "text"
      },
      "source": [
        "<a href=\"https://colab.research.google.com/github/trish-r/102203584_Trish_Rustagi_Clustering/blob/main/102203584_Clustering.ipynb\" target=\"_parent\"><img src=\"https://colab.research.google.com/assets/colab-badge.svg\" alt=\"Open In Colab\"/></a>"
      ]
    },
    {
      "cell_type": "code",
      "execution_count": 27,
      "metadata": {
        "id": "24YSVDWmTJdH"
      },
      "outputs": [],
      "source": [
        "import numpy as np\n",
        "import pandas as pd\n",
        "from sklearn import datasets\n",
        "from sklearn.preprocessing import MinMaxScaler, FunctionTransformer\n",
        "from sklearn.decomposition import PCA\n",
        "from sklearn.cluster import KMeans, MeanShift, estimate_bandwidth, AgglomerativeClustering\n",
        "from sklearn.metrics import silhouette_score, calinski_harabasz_score, davies_bouldin_score"
      ]
    },
    {
      "cell_type": "code",
      "source": [
        "iris = datasets.load_iris()\n",
        "X = iris.data"
      ],
      "metadata": {
        "id": "9MQ93InfTV12"
      },
      "execution_count": 28,
      "outputs": []
    },
    {
      "cell_type": "code",
      "source": [
        "def normalize(X):\n",
        "    return MinMaxScaler().fit_transform(X)\n",
        "\n",
        "def log_transform(X):\n",
        "    return FunctionTransformer(np.log1p).fit_transform(X)\n",
        "\n",
        "def apply_pca(X, n_components=2):\n",
        "    return PCA(n_components=n_components).fit_transform(X)"
      ],
      "metadata": {
        "id": "VDwk-STeTt6d"
      },
      "execution_count": 29,
      "outputs": []
    },
    {
      "cell_type": "code",
      "source": [
        "preprocessing_options = {\n",
        "    \"No Data Processing\": lambda X: X,\n",
        "    \"Using Normalization\": normalize,\n",
        "    \"Using Transform\": log_transform,\n",
        "    \"Using PCA\": lambda X: apply_pca(X),\n",
        "    \"Using T+N\": lambda X: normalize(log_transform(X)),\n",
        "    \"T+N+PCA\": lambda X: apply_pca(normalize(log_transform(X))),\n",
        "}"
      ],
      "metadata": {
        "id": "c8Li9dXNTu0b"
      },
      "execution_count": 30,
      "outputs": []
    },
    {
      "cell_type": "code",
      "source": [
        "def init_result_table():\n",
        "    return {\n",
        "        \"Silhouette\": {},\n",
        "        \"Calinski-Harabasz\": {},\n",
        "        \"Davies-Bouldin\": {}\n",
        "    }"
      ],
      "metadata": {
        "id": "ukkhDMEZTxYi"
      },
      "execution_count": 31,
      "outputs": []
    },
    {
      "cell_type": "code",
      "source": [
        "def evaluate_clustering(X, labels):\n",
        "    return (\n",
        "        silhouette_score(X, labels),\n",
        "        calinski_harabasz_score(X, labels),\n",
        "        davies_bouldin_score(X, labels)\n",
        "    )"
      ],
      "metadata": {
        "id": "odkd5QjPTzg7"
      },
      "execution_count": 32,
      "outputs": []
    },
    {
      "cell_type": "code",
      "source": [
        "def run_clustering(X_original, clusterer, cluster_range=(3, 6), fixed=False):\n",
        "    results = init_result_table()\n",
        "    for name, preprocess in preprocessing_options.items():\n",
        "        X = preprocess(X_original)\n",
        "        for c in range(*cluster_range):\n",
        "            try:\n",
        "                if fixed:\n",
        "                    model = clusterer(n_clusters=c)\n",
        "                else:\n",
        "                    model = clusterer()\n",
        "                labels = model.fit_predict(X)\n",
        "                sil, ch, db = evaluate_clustering(X, labels)\n",
        "                results[\"Silhouette\"][(name, c)] = round(sil, 2)\n",
        "                results[\"Calinski-Harabasz\"][(name, c)] = int(ch)\n",
        "                results[\"Davies-Bouldin\"][(name, c)] = round(db, 2)\n",
        "            except:\n",
        "                results[\"Silhouette\"][(name, c)] = \"NA\"\n",
        "                results[\"Calinski-Harabasz\"][(name, c)] = \"NA\"\n",
        "                results[\"Davies-Bouldin\"][(name, c)] = \"NA\"\n",
        "    return results\n"
      ],
      "metadata": {
        "id": "PdgUKuDUT5Ev"
      },
      "execution_count": 33,
      "outputs": []
    },
    {
      "cell_type": "code",
      "source": [
        "kmeans_results = run_clustering(X, KMeans, (3, 6), fixed=True)"
      ],
      "metadata": {
        "id": "1i5zFQVeT7d4"
      },
      "execution_count": 34,
      "outputs": []
    },
    {
      "cell_type": "code",
      "source": [
        "hierarchical_results = run_clustering(X, AgglomerativeClustering, (3, 6), fixed=True)\n"
      ],
      "metadata": {
        "id": "Mc3Or3IbUCEO"
      },
      "execution_count": 35,
      "outputs": []
    },
    {
      "cell_type": "code",
      "source": [
        "meanshift_results = run_clustering(X, MeanShift, (3, 6), fixed=False)"
      ],
      "metadata": {
        "id": "RRcPbOHGXUG6"
      },
      "execution_count": 36,
      "outputs": []
    },
    {
      "cell_type": "code",
      "source": [
        "def print_formatted_results_table(title, results):\n",
        "    print(f\"\\n{title}\")\n",
        "    print(\"-\" * 200)\n",
        "    preprocessing_methods = [\n",
        "        \"No Data Processing\",\n",
        "        \"Using Normalization\",\n",
        "        \"Using Transform\",\n",
        "        \"Using PCA\",\n",
        "        \"Using T+N\",\n",
        "        \"T+N+PCA\"\n",
        "    ]\n",
        "\n",
        "    metrics = [\"Silhouette\", \"Calinski-Harabasz\", \"Davies-Bouldin\"]\n",
        "    header_row = [\"Parameters\"]\n",
        "    for method in preprocessing_methods:\n",
        "        header_row.extend([method, \"\", \"\"])\n",
        "    c_row = [\"\"]\n",
        "    for _ in preprocessing_methods:\n",
        "        c_row.extend([\"c=3\", \"c=4\", \"c=5\"])\n",
        "    print(\"{:<20}\".format(header_row[0]), end=\"\")\n",
        "    for i in range(1, len(header_row), 3):\n",
        "        print(\"{:<30}\".format(header_row[i]), end=\"\")\n",
        "    print()\n",
        "\n",
        "    print(\"{:<20}\".format(c_row[0]), end=\"\")\n",
        "    for i in range(1, len(c_row)):\n",
        "        print(\"{:<10}\".format(c_row[i]), end=\"\")\n",
        "    print()\n",
        "    print(\"-\" * 200)\n",
        "\n",
        "    for metric in metrics:\n",
        "        print(\"{:<20}\".format(metric), end=\"\")\n",
        "\n",
        "        for method in preprocessing_methods:\n",
        "            for c in range(3, 6):\n",
        "                try:\n",
        "                    value = results[metric][(method, c)]\n",
        "                    if isinstance(value, (int, float)):\n",
        "                        if metric == \"Calinski-Harabasz\":\n",
        "                            print(\"{:<10}\".format(value), end=\"\")\n",
        "                        else:\n",
        "                            print(\"{:<10.2f}\".format(float(value)), end=\"\")\n",
        "                    else:\n",
        "                        print(\"{:<10}\".format(value), end=\"\")\n",
        "                except KeyError:\n",
        "                    print(\"{:<10}\".format(\"NA\"), end=\"\")\n",
        "        print()\n",
        "\n",
        "    print()\n",
        "\n",
        "print(\"\\nPerformance using different clustering techniques on various parameters\")\n",
        "print(\"=\" * 100)\n",
        "print_formatted_results_table(\"Using K-Mean Clustering\", kmeans_results)\n",
        "print_formatted_results_table(\"Using Hierarchical Clustering\", hierarchical_results)\n",
        "print_formatted_results_table(\"Using K-mean Shift Clustering\", meanshift_results)"
      ],
      "metadata": {
        "colab": {
          "base_uri": "https://localhost:8080/"
        },
        "id": "vG_ar1goXWj2",
        "outputId": "019e6a79-62d3-4313-ce6b-3b17c3f34f24"
      },
      "execution_count": 38,
      "outputs": [
        {
          "output_type": "stream",
          "name": "stdout",
          "text": [
            "\n",
            "Performance using different clustering techniques on various parameters\n",
            "====================================================================================================\n",
            "\n",
            "Using K-Mean Clustering\n",
            "--------------------------------------------------------------------------------------------------------------------------------------------------------------------------------------------------------\n",
            "Parameters          No Data Processing            Using Normalization           Using Transform               Using PCA                     Using T+N                     T+N+PCA                       \n",
            "                    c=3       c=4       c=5       c=3       c=4       c=5       c=3       c=4       c=5       c=3       c=4       c=5       c=3       c=4       c=5       c=3       c=4       c=5       \n",
            "--------------------------------------------------------------------------------------------------------------------------------------------------------------------------------------------------------\n",
            "Silhouette          0.55      0.50      0.37      0.50      0.44      0.44      0.57      0.50      0.46      0.60      0.56      0.45      0.49      0.44      0.33      0.55      0.51      0.48      \n",
            "Calinski-Harabasz   561       530       459       359       313       270       974       832       705       693       718       656       439       363       342       574       504       422       \n",
            "Davies-Bouldin      0.66      0.78      0.91      0.76      0.90      0.94      0.63      0.77      0.93      0.56      0.60      0.72      0.78      0.89      1.01      0.64      0.72      0.80      \n",
            "\n",
            "\n",
            "Using Hierarchical Clustering\n",
            "--------------------------------------------------------------------------------------------------------------------------------------------------------------------------------------------------------\n",
            "Parameters          No Data Processing            Using Normalization           Using Transform               Using PCA                     Using T+N                     T+N+PCA                       \n",
            "                    c=3       c=4       c=5       c=3       c=4       c=5       c=3       c=4       c=5       c=3       c=4       c=5       c=3       c=4       c=5       c=3       c=4       c=5       \n",
            "--------------------------------------------------------------------------------------------------------------------------------------------------------------------------------------------------------\n",
            "Silhouette          0.55      0.49      0.48      0.50      0.43      0.35      0.57      0.50      0.43      0.60      0.54      0.55      0.48      0.42      0.32      0.53      0.50      0.41      \n",
            "Calinski-Harabasz   558       515       488       349       301       272       974       786       671       688       673       665       406       347       323       504       479       476       \n",
            "Davies-Bouldin      0.66      0.80      0.82      0.75      0.85      0.91      0.63      0.72      0.84      0.56      0.65      0.65      0.77      0.88      1.00      0.59      0.62      0.72      \n",
            "\n",
            "\n",
            "Using K-mean Shift Clustering\n",
            "--------------------------------------------------------------------------------------------------------------------------------------------------------------------------------------------------------\n",
            "Parameters          No Data Processing            Using Normalization           Using Transform               Using PCA                     Using T+N                     T+N+PCA                       \n",
            "                    c=3       c=4       c=5       c=3       c=4       c=5       c=3       c=4       c=5       c=3       c=4       c=5       c=3       c=4       c=5       c=3       c=4       c=5       \n",
            "--------------------------------------------------------------------------------------------------------------------------------------------------------------------------------------------------------\n",
            "Silhouette          0.69      0.69      0.69      0.63      0.63      0.63      0.76      0.76      0.76      0.71      0.71      0.71      0.68      0.68      0.68      0.71      0.71      0.71      \n",
            "Calinski-Harabasz   509       509       509       354       354       354       951       951       951       565       565       565       488       488       488       572       572       572       \n",
            "Davies-Bouldin      0.39      0.39      0.39      0.49      0.49      0.49      0.30      0.30      0.30      0.36      0.36      0.36      0.43      0.43      0.43      0.38      0.38      0.38      \n",
            "\n"
          ]
        }
      ]
    },
    {
      "cell_type": "code",
      "source": [],
      "metadata": {
        "id": "YDfit-lfa6tO"
      },
      "execution_count": null,
      "outputs": []
    }
  ]
}